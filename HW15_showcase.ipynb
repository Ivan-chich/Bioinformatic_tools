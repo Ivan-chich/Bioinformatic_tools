{
 "cells": [
  {
   "cell_type": "code",
   "execution_count": 1,
   "id": "e2106a13-96d8-4271-9dfe-9aea0f033433",
   "metadata": {},
   "outputs": [],
   "source": [
    "from main_script import *"
   ]
  },
  {
   "cell_type": "code",
   "execution_count": 2,
   "id": "ddb848b6-b57d-4d07-bdac-4e6990e32c16",
   "metadata": {},
   "outputs": [
    {
     "name": "stdout",
     "output_type": "stream",
     "text": [
      "Nucleic Acid Sequence: ACGTAGCTAG\n",
      "Длина последовательности: 10\n",
      "Элемент по индексу 2: G\n",
      "Элемент по срезу [1:4]: CGT\n",
      "Комплементарная последовательность: TGCATCGATC\n",
      "Обратная последовательность: GATCGATGCA\n",
      "Обратная комплементарная последовательность: CTAGCTACGT\n",
      "Транскрибированная РНК-последовательность: ACGUAGCUAG\n"
     ]
    }
   ],
   "source": [
    "# Пример работы с ДНК\n",
    "dna = DNASequence(\"ACGTAGCTAG\")\n",
    "print(dna)\n",
    "print(\"Длина последовательности:\", len(dna))\n",
    "print(\"Элемент по индексу 2:\", dna[2])\n",
    "print(\"Элемент по срезу [1:4]:\", dna[1:4])\n",
    "print(\"Комплементарная последовательность:\", dna.complement())\n",
    "print(\"Обратная последовательность:\", dna.reverse())\n",
    "print(\"Обратная комплементарная последовательность:\", dna.reverse_complement())\n",
    "print(\"Транскрибированная РНК-последовательность:\", dna.transcribe())"
   ]
  },
  {
   "cell_type": "code",
   "execution_count": 3,
   "id": "fb2bd9d0-b87f-41d4-9c10-4630b690e4e6",
   "metadata": {},
   "outputs": [
    {
     "name": "stdout",
     "output_type": "stream",
     "text": [
      "Nucleic Acid Sequence: ACGUAGCUAG\n",
      "Транскрибированная ДНК-последовательность: ACGTAGCTAG\n",
      "True\n"
     ]
    }
   ],
   "source": [
    "# Пример работы с РНК\n",
    "rna = RNASequence(\"ACGUAGCUAG\")\n",
    "print(rna)\n",
    "print(\"Транскрибированная ДНК-последовательность:\", rna.reverse_transcribe())\n",
    "print(rna.__is_valid__())"
   ]
  },
  {
   "cell_type": "code",
   "execution_count": 4,
   "id": "d54e2c53-22df-4c85-8b56-c6ecab080040",
   "metadata": {},
   "outputs": [
    {
     "name": "stdout",
     "output_type": "stream",
     "text": [
      "Amino Acid Sequence: ACDEFGHIKLMNPQRSTVWY\n",
      "Длина последовательности: 20\n",
      "Молекулярная масса: 2738\n",
      "True\n"
     ]
    }
   ],
   "source": [
    "# Пример работы с аминокислотной последовательностью:\n",
    "amino_acid_seq = AminoAcidSequence(\"ACDEFGHIKLMNPQRSTVWY\")\n",
    "print(amino_acid_seq)\n",
    "print(\"Длина последовательности:\", len(amino_acid_seq))\n",
    "print(\"Молекулярная масса:\", amino_acid_seq.molecular_weight())\n",
    "print(amino_acid_seq.__is_valid__())"
   ]
  },
  {
   "cell_type": "code",
   "execution_count": 5,
   "id": "2238c092-3773-4388-9aae-f3b3dfd3d30a",
   "metadata": {},
   "outputs": [
    {
     "name": "stdout",
     "output_type": "stream",
     "text": [
      "Нельзя создать экземпляр данного класса! Определите последовательность через класс DNASequence или RNASequence\n",
      "В последовательности ДНК есть недопустимые символы!\n",
      "В последовательности РНК есть недопустимые символы!\n",
      "В последовательности белка есть недопустимые символы!\n"
     ]
    }
   ],
   "source": [
    "# Примеры обработки ошибок:\n",
    "\n",
    "# Неверная подача аргумента\n",
    "try:\n",
    "    print(NucleicAcidSequence(\"TATT\").__is_valid__())\n",
    "except NotImplementedError as error:\n",
    "    print(f'Нельзя создать экземпляр данного класса! {error}')\n",
    "\n",
    "# Последовательность РНК вместо ДНК:\n",
    "try:\n",
    "    dna = DNASequence(\"AUGUUCCC\")\n",
    "except SequenceError as error:\n",
    "    print(f'{error}')\n",
    "\n",
    "# Последовательность ДНК вместо РНК:\n",
    "try:\n",
    "    rna = RNASequence(\"ATTGCTTU\")\n",
    "except SequenceError as error:\n",
    "    print(f'{error}')\n",
    "\n",
    "# Несуществующие символы в последовательности белка:\n",
    "try:\n",
    "    peptide = AminoAcidSequence(\"YDYPDYAZ!\")\n",
    "except SequenceError as error:\n",
    "    print(f'{error}')"
   ]
  },
  {
   "cell_type": "code",
   "execution_count": 6,
   "id": "93bcdaef-3d0e-4826-93ff-5b4042d1e6a3",
   "metadata": {},
   "outputs": [],
   "source": [
    "# Пример использования filter_fastq\n",
    "filter_fastq(\n",
    "    \"input.fastq\",\n",
    "    \"filtered_output.fastq\",\n",
    "    min_length=10,\n",
    "    min_quality=20,\n",
    "    min_gc_content=40,\n",
    ")"
   ]
  }
 ],
 "metadata": {
  "kernelspec": {
   "display_name": "Python 3 (ipykernel)",
   "language": "python",
   "name": "python3"
  },
  "language_info": {
   "codemirror_mode": {
    "name": "ipython",
    "version": 3
   },
   "file_extension": ".py",
   "mimetype": "text/x-python",
   "name": "python",
   "nbconvert_exporter": "python",
   "pygments_lexer": "ipython3",
   "version": "3.13.0"
  }
 },
 "nbformat": 4,
 "nbformat_minor": 5
}
