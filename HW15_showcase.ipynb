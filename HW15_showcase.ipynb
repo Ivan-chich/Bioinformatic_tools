{
 "cells": [
  {
   "cell_type": "code",
   "execution_count": 1,
   "id": "e2106a13-96d8-4271-9dfe-9aea0f033433",
   "metadata": {},
   "outputs": [],
   "source": [
    "from main_script import *"
   ]
  },
  {
   "cell_type": "code",
   "execution_count": 2,
   "id": "ddb848b6-b57d-4d07-bdac-4e6990e32c16",
   "metadata": {},
   "outputs": [
    {
     "name": "stdout",
     "output_type": "stream",
     "text": [
      "Nucleic Acid Sequence: ACGTAGCTAG\n",
      "Длина последовательности: 10\n",
      "Элемент по индексу 2: G\n",
      "Элемент по срезу [1:4]: CGT\n",
      "Комплементарная последовательность: TGCATCGATC\n",
      "Обратная последовательность: GATCGATGCA\n",
      "Обратная комплементарная последовательность: CTAGCTACGT\n",
      "Транскрибированная РНК-последовательность: ACGUAGCUAG\n"
     ]
    }
   ],
   "source": [
    "# Пример работы с ДНК\n",
    "dna = DNASequence(\"ACGTAGCTAG\")\n",
    "print(dna)\n",
    "print(\"Длина последовательности:\", len(dna))\n",
    "print(\"Элемент по индексу 2:\", dna[2])\n",
    "print(\"Элемент по срезу [1:4]:\", dna[1:4])\n",
    "print(\"Комплементарная последовательность:\", dna.complement())\n",
    "print(\"Обратная последовательность:\", dna.reverse())\n",
    "print(\"Обратная комплементарная последовательность:\", dna.reverse_complement())\n",
    "print(\"Транскрибированная РНК-последовательность:\", dna.transcribe())"
   ]
  },
  {
   "cell_type": "code",
   "execution_count": 3,
   "id": "fb2bd9d0-b87f-41d4-9c10-4630b690e4e6",
   "metadata": {},
   "outputs": [
    {
     "name": "stdout",
     "output_type": "stream",
     "text": [
      "Nucleic Acid Sequence: ACGUAGCUAG\n",
      "Транскрибированная ДНК-последовательность: ACGTAGCTAG\n",
      "True\n"
     ]
    }
   ],
   "source": [
    "# Пример работы с РНК\n",
    "rna = RNASequence(\"ACGUAGCUAG\")\n",
    "print(rna)\n",
    "print(\"Транскрибированная ДНК-последовательность:\", rna.reverse_transcribe())\n",
    "print(rna.__is_valid__())"
   ]
  },
  {
   "cell_type": "code",
   "execution_count": 4,
   "id": "d54e2c53-22df-4c85-8b56-c6ecab080040",
   "metadata": {},
   "outputs": [
    {
     "name": "stdout",
     "output_type": "stream",
     "text": [
      "Amino Acid Sequence: ACDEFGHIKLMNPQRSTVWY\n",
      "Длина последовательности: 20\n",
      "Молекулярная масса: 2738\n",
      "True\n"
     ]
    }
   ],
   "source": [
    "# Пример работы с аминокислотной последовательностью:\n",
    "amino_acid_seq = AminoAcidSequence(\"ACDEFGHIKLMNPQRSTVWY\")\n",
    "print(amino_acid_seq)\n",
    "print(\"Длина последовательности:\", len(amino_acid_seq))\n",
    "print(\"Молекулярная масса:\", amino_acid_seq.molecular_weight())\n",
    "print(amino_acid_seq.__is_valid__())"
   ]
  },
  {
   "cell_type": "code",
   "execution_count": 5,
   "id": "2238c092-3773-4388-9aae-f3b3dfd3d30a",
   "metadata": {},
   "outputs": [
    {
     "name": "stdout",
     "output_type": "stream",
     "text": [
      "Нельзя создать экземпляр данного класса! Определите последовательность через класс DNASequence или RNASequence\n",
      "В последовательности ДНК есть недопустимые символы!\n",
      "В последовательности РНК есть недопустимые символы!\n",
      "В последовательности белка есть недопустимые символы!\n"
     ]
    }
   ],
   "source": [
    "# Примеры обработки ошибок:\n",
    "\n",
    "# Неверная подача аргумента\n",
    "try:\n",
    "    print(NucleicAcidSequence(\"TATT\").__is_valid__())\n",
    "except NotImplementedError as error:\n",
    "    print(f'Нельзя создать экземпляр данного класса! {error}')\n",
    "\n",
    "# Последовательность РНК вместо ДНК:\n",
    "try:\n",
    "    dna = DNASequence(\"AUGUUCCC\")\n",
    "except SequenceError as error:\n",
    "    print(f'{error}')\n",
    "\n",
    "# Последовательность ДНК вместо РНК:\n",
    "try:\n",
    "    rna = RNASequence(\"ATTGCTTU\")\n",
    "except SequenceError as error:\n",
    "    print(f'{error}')\n",
    "\n",
    "# Несуществующие символы в последовательности белка:\n",
    "try:\n",
    "    peptide = AminoAcidSequence(\"YDYPDYAZ!\")\n",
    "except SequenceError as error:\n",
    "    print(f'{error}')"
   ]
  },
  {
   "cell_type": "code",
   "execution_count": 6,
   "id": "93bcdaef-3d0e-4826-93ff-5b4042d1e6a3",
   "metadata": {},
   "outputs": [],
   "source": [
    "# Пример использования filter_fastq\n",
    "filter_fastq(\n",
    "    \"input.fastq\",\n",
    "    \"filtered_output.fastq\",\n",
    "    min_length=10,\n",
    "    min_quality=20,\n",
    "    min_gc_content=40,\n",
    ")"
   ]
  },
  {
   "cell_type": "markdown",
   "id": "9e716754-f364-47c7-a3d2-012f7d40335c",
   "metadata": {},
   "source": [
    "### Запуск из командной строки:\n",
    "\n",
    "1. Импорт `argparse`: добавил импорт модуля argparse.\n",
    "2. Создание парсера: создал объект `ArgumentParser`, который будет обрабатывать аргументы командной строки.\n",
    "3. Добавление аргументов: добавил необходимые аргументы для входного и выходного файлов и опциональные параметры для минимальной длины последовательности (`--min_length`), минимального качества (`--min_quality`) и минимального содержания GC (`--min_gc_content`).\n",
    "4. Парсинг аргументов: использовал метод `parse_args()` для извлечения значений аргументов из командной строки.\n",
    "5. Вызов функции: передал извлеченные значения в функцию `filter_fastq` такие же, как в примере выше."
   ]
  },
  {
   "cell_type": "code",
   "execution_count": 7,
   "id": "92a4085b-7d33-4bef-8a9a-68ad7d476443",
   "metadata": {},
   "outputs": [],
   "source": [
    "!python main_script.py input.fastq cmd_line_output.fastq --min_length=10 --min_quality=20 --min_gc_content=40"
   ]
  },
  {
   "cell_type": "code",
   "execution_count": 8,
   "id": "ef30f826-8e0f-49f9-8786-893774de97e4",
   "metadata": {},
   "outputs": [],
   "source": [
    "# empty output means no difference\n",
    "!diff \"cmd_line_output.fastq\" \"filtered_output.fastq\""
   ]
  },
  {
   "cell_type": "markdown",
   "id": "7daa0b64-886f-4026-98f4-c50f715983d3",
   "metadata": {},
   "source": [
    "### Настройка логирования:\n",
    "\n",
    "1. Импорт модуля logging: добавил импорт модуля `logging`.\n",
    "2. Настройка логирования: настроил базовую конфигурацию для логирования с указанием имени файла (`filter_fastq.log`), уровня логирования (`DEBUG`) и формата сообщений.\n",
    "3. Логирование предупреждений: В функции `filter_fastq` добавлены сообщения о предупреждениях (`logging.warning`) для случаев, когда записи пропускаются из-за недостаточной длины, низкого качества или низкого содержания GC.\n",
    "4. Обработка исключений: Вызов функции `filter_fastq` обернут в блок `try-except`, чтобы поймать любые исключения и записать их в лог как ошибки (`logging.error`).\n",
    "5. Создание отдельного логгера: создал логгер `error_logger`, который будет записывать ошибки в файл `filter_fastq_errors.log`.\n",
    "6. Добавление обработчика: добавил обработчик `FileHandler` для этого логгера и настроил его на уровень `ERROR`.\n",
    "7. Проверка аргументов — добавлена проверка на наличие аргументов `input_file` и `output_file`. Если они не переданы — записывается ошибка в лог и выбрасывается исключение `ValueError`.\n",
    "8. Проверка существования файла — добавлена проверка на существование входного файла `input_file`. Если файл не существует — записывается ошибка в лог и выбрасывается исключение `FileNotFoundError`.\n",
    "9. Перезапись файлов логов — добавлен параметр `filemode='w'` в `logging.basicConfig`, чтобы перезаписывать файл лога при каждом запуске.\n",
    "10. Перезапись файла ошибок — изменен режим открытия файла ошибок на `'w'` в `FileHandler`, чтобы он также перезаписывался.\n",
    "11. Обработка исключений при разборе аргументов — добавлен блок `try-except` вокруг `parser.parse_args()`, чтобы перехватывать исключение `SystemExit`, которое возникает при ошибках разбора аргументов командной строки.\n",
    "12. Запись ошибки в файл — если возникает ошибка разбора аргументов командной строки (например, отсутствует обязательный аргумент), сообщение об ошибке записывается в файл `filter_fastq_errors.log`.\n",
    "\n",
    "Теперь при запуске скрипта будет создаваться файл `filter_fastq.log`, в который будут записываться информационные сообщения во время выполнения программы. Отчёт об ошибках будет записан в `filter_fastq_errors.log`. Файлы `filter_fastq.log` и `filter_fastq_errors.log` будут очищаться и заполняться новыми данными прикаждом новом запуске скрипта. Если не передать обязательные аргументы командной строки (например output_file), то сообщение об ошибке будет записано в файл ошибок."
   ]
  },
  {
   "cell_type": "markdown",
   "id": "851b3541-eb11-447b-a63c-7c1608267728",
   "metadata": {},
   "source": [
    "#### Посмотрим на примерах:"
   ]
  },
  {
   "cell_type": "code",
   "execution_count": 9,
   "id": "b0730500-9215-4b3b-bc4e-118ecc616e72",
   "metadata": {},
   "outputs": [],
   "source": [
    "!python main_script.py input.fastq cmd_line_output.fastq --min_length=10 --min_quality=20 --min_gc_content=40"
   ]
  },
  {
   "cell_type": "code",
   "execution_count": 10,
   "id": "e1e65430-569a-4ad8-9b86-7a545952e944",
   "metadata": {},
   "outputs": [
    {
     "name": "stdout",
     "output_type": "stream",
     "text": [
      "2025-04-13 19:23:20,037 - WARNING - Запись SRR941816.8 пропущена из-за низкого GC-содержания.\n",
      "2025-04-13 19:23:20,037 - WARNING - Запись SRR941816.12 пропущена из-за низкого GC-содержания.\n",
      "2025-04-13 19:23:20,037 - WARNING - Запись SRR941816.14 пропущена из-за низкого GC-содержания.\n",
      "2025-04-13 19:23:20,037 - WARNING - Запись SRR941816.16 пропущена из-за низкого GC-содержания.\n",
      "2025-04-13 19:23:20,037 - WARNING - Запись SRR941816.18 пропущена из-за низкого GC-содержания.\n",
      "2025-04-13 19:23:20,037 - WARNING - Запись SRR941816.20 пропущена из-за низкого GC-содержания.\n",
      "2025-04-13 19:23:20,037 - WARNING - Запись SRR941816.22 пропущена из-за низкого GC-содержания.\n",
      "2025-04-13 19:23:20,037 - WARNING - Запись SRR941816.23 пропущена из-за низкого GC-содержания.\n",
      "2025-04-13 19:23:20,037 - WARNING - Запись SRR941816.26 пропущена из-за низкого GC-содержания.\n",
      "2025-04-13 19:23:20,038 - WARNING - Запись SRR941816.27 пропущена из-за низкого GC-содержания.\n"
     ]
    }
   ],
   "source": [
    "!cat filter_fastq.log | head"
   ]
  },
  {
   "cell_type": "code",
   "execution_count": 11,
   "id": "766d5491-4977-457a-bb2a-04066f8ec3ae",
   "metadata": {},
   "outputs": [],
   "source": [
    "# Передаем несуществующий файл на вход:\n",
    "!python main_script.py not_existing_input.fastq cmd_line_output.fastq --min_length=10 --min_quality=20 --min_gc_content=40"
   ]
  },
  {
   "cell_type": "code",
   "execution_count": 12,
   "id": "58ac55ec-1759-43a5-9396-bc269b9f556a",
   "metadata": {},
   "outputs": [
    {
     "name": "stdout",
     "output_type": "stream",
     "text": [
      "2025-04-13 19:23:20,338 - ERROR - Файл not_existing_input.fastq не существует.\n"
     ]
    }
   ],
   "source": [
    "!cat filter_fastq_errors.log"
   ]
  },
  {
   "cell_type": "code",
   "execution_count": 13,
   "id": "f0afe323-288d-4089-8e3a-6045296005b0",
   "metadata": {},
   "outputs": [
    {
     "name": "stdout",
     "output_type": "stream",
     "text": [
      "usage: main_script.py [-h] [--min_length MIN_LENGTH] [--min_quality MIN_QUALITY] [--min_gc_content MIN_GC_CONTENT]\n",
      "                      input_file output_file\n",
      "main_script.py: error: the following arguments are required: output_file\n"
     ]
    }
   ],
   "source": [
    "# Забываем передать файл с вводными данными:\n",
    "!python main_script.py cmd_line_output.fastq --min_length=10 --min_quality=20 --min_gc_content=40"
   ]
  },
  {
   "cell_type": "code",
   "execution_count": 14,
   "id": "17c05df3-9e41-4606-af56-011ac775a613",
   "metadata": {},
   "outputs": [
    {
     "name": "stdout",
     "output_type": "stream",
     "text": [
      "2025-04-13 19:23:20,634 - ERROR - Ошибка при разборе аргументов командной строки: 2\n"
     ]
    }
   ],
   "source": [
    "!cat filter_fastq_errors.log"
   ]
  },
  {
   "cell_type": "markdown",
   "id": "a86f34c9-9106-49c2-ab72-a813a0aed694",
   "metadata": {},
   "source": [
    "### Тестирование:\n",
    "\n",
    "1. **TestBiologicalSequences**:\n",
    "\n",
    "* `test_dna_sequence_valid`: Проверяет создание валидной ДНК последовательности.\n",
    "* `test_dna_sequence_invalid`: Проверяет выброс ошибки при создании невалидной ДНК последовательности.\n",
    "* `test_dna_sequence_empty`: Проверяет создание пустой ДНК последовательности и ожидает выброса ошибки SequenceError.\n",
    "* `test_dna_sequence_with_spaces`: Проверяет создание ДНК последовательности с пробелами и ожидает выброса ошибки SequenceError.\n",
    "\n",
    "2. **TestFilterFastq**:\n",
    "\n",
    "* `setUp`: Создает временный входной FASTQ файл для тестирования.\n",
    "* `tearDown`: Удаляет временные файлы после завершения тестов.\n",
    "* `test_filter_fastq_success`: Проверяет успешную фильтрацию и создание выходного файла.\n",
    "* `test_filter_fastq_min_length_error`: Проверяет ситуацию, когда записи отфильтровываются по минимальной длине.\n",
    "* `test_filter_fastq_logging_error`: Проверяет выброс ошибки при попытке фильтрации несуществующего входного файла.\n",
    "* `test_filter_fastq_no_records`: Проверяет поведение функции фильтрации при отсутствии записей в входном файле и ожидает, что выходной файл не будет создан.\n"
   ]
  },
  {
   "cell_type": "code",
   "execution_count": 15,
   "id": "33df3ef5-63dd-405b-9db5-d9ee9c109bc4",
   "metadata": {},
   "outputs": [
    {
     "name": "stdout",
     "output_type": "stream",
     "text": [
      "........\n",
      "----------------------------------------------------------------------\n",
      "Ran 8 tests in 0.003s\n",
      "\n",
      "OK\n"
     ]
    }
   ],
   "source": [
    "!python -m unittest discover tests/"
   ]
  },
  {
   "cell_type": "code",
   "execution_count": null,
   "id": "0662eea7-0fe9-4764-a69c-3d5dc3f53a9c",
   "metadata": {},
   "outputs": [],
   "source": []
  }
 ],
 "metadata": {
  "kernelspec": {
   "display_name": "Python 3 (ipykernel)",
   "language": "python",
   "name": "python3"
  },
  "language_info": {
   "codemirror_mode": {
    "name": "ipython",
    "version": 3
   },
   "file_extension": ".py",
   "mimetype": "text/x-python",
   "name": "python",
   "nbconvert_exporter": "python",
   "pygments_lexer": "ipython3",
   "version": "3.13.0"
  }
 },
 "nbformat": 4,
 "nbformat_minor": 5
}
